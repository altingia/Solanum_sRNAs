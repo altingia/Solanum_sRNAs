{
 "cells": [
  {
   "cell_type": "code",
   "execution_count": 7,
   "metadata": {
    "collapsed": true
   },
   "outputs": [],
   "source": [
    "import pandas as pd\n",
    "import os\n",
    "import re\n",
    "import functools"
   ]
  },
  {
   "cell_type": "markdown",
   "metadata": {},
   "source": []
  },
  {
   "cell_type": "code",
   "execution_count": 10,
   "metadata": {
    "collapsed": false
   },
   "outputs": [],
   "source": [
    "# Where is the shortstack directory\n",
    "os.chdir(\"/Users/mgalland/SURFdrive/trichome_team/06.results_from_xp/sRNA-Seq/20170117_srnadesc/shortstack/\")"
   ]
  },
  {
   "cell_type": "code",
   "execution_count": 11,
   "metadata": {
    "collapsed": false
   },
   "outputs": [
    {
     "data": {
      "text/plain": [
       "['/Users/mgalland/SURFdrive/trichome_team/06.results_from_xp/sRNA-Seq/20170117_srnadesc/shortstack/C32/Results.txt',\n",
       " '/Users/mgalland/SURFdrive/trichome_team/06.results_from_xp/sRNA-Seq/20170117_srnadesc/shortstack/LA0407/Results.txt']"
      ]
     },
     "execution_count": 11,
     "metadata": {},
     "output_type": "execute_result"
    }
   ],
   "source": [
    "# Get all ShortStack directories (sample list)\n",
    "pattern = re.compile(\"[A-Z+][0-9]+\")\n",
    "\n",
    "# Store them in a list\n",
    "shortstack_dfs = [os.getcwd() + \"/\" + f + \"/Results.txt\" for f in os.listdir(\"./\") if pattern.search(f)]\n",
    "\n",
    "# print first elements\n",
    "shortstack_dfs[0:2]"
   ]
  },
  {
   "cell_type": "code",
   "execution_count": 12,
   "metadata": {
    "collapsed": false
   },
   "outputs": [
    {
     "data": {
      "text/html": [
       "<div>\n",
       "<table border=\"1\" class=\"dataframe\">\n",
       "  <thead>\n",
       "    <tr style=\"text-align: right;\">\n",
       "      <th></th>\n",
       "      <th>#Locus</th>\n",
       "      <th>Name</th>\n",
       "      <th>Length</th>\n",
       "      <th>Reads</th>\n",
       "      <th>MeanReads</th>\n",
       "      <th>StdevReads</th>\n",
       "      <th>UniqueReads</th>\n",
       "      <th>FracTop</th>\n",
       "      <th>Strand</th>\n",
       "      <th>MajorRNA</th>\n",
       "      <th>...</th>\n",
       "      <th>MIRNA</th>\n",
       "      <th>PhaseSize</th>\n",
       "      <th>PhaseScore</th>\n",
       "      <th>Short</th>\n",
       "      <th>Long</th>\n",
       "      <th>20</th>\n",
       "      <th>21</th>\n",
       "      <th>22</th>\n",
       "      <th>23</th>\n",
       "      <th>24</th>\n",
       "    </tr>\n",
       "  </thead>\n",
       "  <tbody>\n",
       "    <tr>\n",
       "      <th>0</th>\n",
       "      <td>SL2.40ch00:3099527-3099768</td>\n",
       "      <td>Cluster_1</td>\n",
       "      <td>242</td>\n",
       "      <td>77</td>\n",
       "      <td>68.7</td>\n",
       "      <td>1.6</td>\n",
       "      <td>2</td>\n",
       "      <td>0.649</td>\n",
       "      <td>.</td>\n",
       "      <td>UUACAUACUCCUGCUAAUAUGU</td>\n",
       "      <td>...</td>\n",
       "      <td>N6</td>\n",
       "      <td>20</td>\n",
       "      <td>2.9</td>\n",
       "      <td>0</td>\n",
       "      <td>1</td>\n",
       "      <td>1</td>\n",
       "      <td>5</td>\n",
       "      <td>57</td>\n",
       "      <td>3</td>\n",
       "      <td>10</td>\n",
       "    </tr>\n",
       "    <tr>\n",
       "      <th>1</th>\n",
       "      <td>SL2.40ch00:4197032-4197202</td>\n",
       "      <td>Cluster_2</td>\n",
       "      <td>171</td>\n",
       "      <td>86</td>\n",
       "      <td>55.9</td>\n",
       "      <td>4.8</td>\n",
       "      <td>4</td>\n",
       "      <td>0.965</td>\n",
       "      <td>+</td>\n",
       "      <td>CCCUUGAAAAUCCGGAGG</td>\n",
       "      <td>...</td>\n",
       "      <td>N2</td>\n",
       "      <td>NP2</td>\n",
       "      <td>NaN</td>\n",
       "      <td>40</td>\n",
       "      <td>2</td>\n",
       "      <td>8</td>\n",
       "      <td>15</td>\n",
       "      <td>3</td>\n",
       "      <td>5</td>\n",
       "      <td>13</td>\n",
       "    </tr>\n",
       "    <tr>\n",
       "      <th>2</th>\n",
       "      <td>SL2.40ch00:5204257-5204456</td>\n",
       "      <td>Cluster_3</td>\n",
       "      <td>200</td>\n",
       "      <td>20</td>\n",
       "      <td>14.5</td>\n",
       "      <td>2.0</td>\n",
       "      <td>4</td>\n",
       "      <td>0.550</td>\n",
       "      <td>.</td>\n",
       "      <td>UGUAAGUGCCCGAACAACAUCA</td>\n",
       "      <td>...</td>\n",
       "      <td>N6</td>\n",
       "      <td>21</td>\n",
       "      <td>1.1</td>\n",
       "      <td>1</td>\n",
       "      <td>0</td>\n",
       "      <td>0</td>\n",
       "      <td>1</td>\n",
       "      <td>11</td>\n",
       "      <td>6</td>\n",
       "      <td>1</td>\n",
       "    </tr>\n",
       "    <tr>\n",
       "      <th>3</th>\n",
       "      <td>SL2.40ch00:5774256-5774769</td>\n",
       "      <td>Cluster_4</td>\n",
       "      <td>514</td>\n",
       "      <td>87</td>\n",
       "      <td>85.4</td>\n",
       "      <td>1.1</td>\n",
       "      <td>41</td>\n",
       "      <td>0.425</td>\n",
       "      <td>.</td>\n",
       "      <td>UGAAAGCUCUCUAAAAAACCUCUC</td>\n",
       "      <td>...</td>\n",
       "      <td>N6</td>\n",
       "      <td>20</td>\n",
       "      <td>1.8</td>\n",
       "      <td>2</td>\n",
       "      <td>2</td>\n",
       "      <td>0</td>\n",
       "      <td>1</td>\n",
       "      <td>7</td>\n",
       "      <td>8</td>\n",
       "      <td>67</td>\n",
       "    </tr>\n",
       "    <tr>\n",
       "      <th>4</th>\n",
       "      <td>SL2.40ch00:6571367-6571564</td>\n",
       "      <td>Cluster_5</td>\n",
       "      <td>198</td>\n",
       "      <td>48</td>\n",
       "      <td>40.0</td>\n",
       "      <td>1.8</td>\n",
       "      <td>16</td>\n",
       "      <td>0.458</td>\n",
       "      <td>.</td>\n",
       "      <td>AUUUCGGGCAUAGAUUGAAGGGGU</td>\n",
       "      <td>...</td>\n",
       "      <td>N6</td>\n",
       "      <td>23</td>\n",
       "      <td>1.4</td>\n",
       "      <td>1</td>\n",
       "      <td>0</td>\n",
       "      <td>2</td>\n",
       "      <td>1</td>\n",
       "      <td>0</td>\n",
       "      <td>8</td>\n",
       "      <td>36</td>\n",
       "    </tr>\n",
       "  </tbody>\n",
       "</table>\n",
       "<p>5 rows × 23 columns</p>\n",
       "</div>"
      ],
      "text/plain": [
       "                       #Locus       Name  Length  Reads  MeanReads  \\\n",
       "0  SL2.40ch00:3099527-3099768  Cluster_1     242     77       68.7   \n",
       "1  SL2.40ch00:4197032-4197202  Cluster_2     171     86       55.9   \n",
       "2  SL2.40ch00:5204257-5204456  Cluster_3     200     20       14.5   \n",
       "3  SL2.40ch00:5774256-5774769  Cluster_4     514     87       85.4   \n",
       "4  SL2.40ch00:6571367-6571564  Cluster_5     198     48       40.0   \n",
       "\n",
       "   StdevReads  UniqueReads  FracTop Strand                  MajorRNA ...  \\\n",
       "0         1.6            2    0.649      .    UUACAUACUCCUGCUAAUAUGU ...   \n",
       "1         4.8            4    0.965      +        CCCUUGAAAAUCCGGAGG ...   \n",
       "2         2.0            4    0.550      .    UGUAAGUGCCCGAACAACAUCA ...   \n",
       "3         1.1           41    0.425      .  UGAAAGCUCUCUAAAAAACCUCUC ...   \n",
       "4         1.8           16    0.458      .  AUUUCGGGCAUAGAUUGAAGGGGU ...   \n",
       "\n",
       "   MIRNA  PhaseSize PhaseScore Short Long  20  21  22  23  24  \n",
       "0     N6         20        2.9     0    1   1   5  57   3  10  \n",
       "1     N2        NP2        NaN    40    2   8  15   3   5  13  \n",
       "2     N6         21        1.1     1    0   0   1  11   6   1  \n",
       "3     N6         20        1.8     2    2   0   1   7   8  67  \n",
       "4     N6         23        1.4     1    0   2   1   0   8  36  \n",
       "\n",
       "[5 rows x 23 columns]"
      ]
     },
     "execution_count": 12,
     "metadata": {},
     "output_type": "execute_result"
    }
   ],
   "source": [
    "# Store all ShortStack results dataframes in a list\n",
    "shortstack_res = [pd.read_table(f) for f in shortstack_dfs]\n",
    "\n",
    "# This is how it looks\n",
    "shortstack_res[0].head()"
   ]
  },
  {
   "cell_type": "code",
   "execution_count": 13,
   "metadata": {
    "collapsed": false
   },
   "outputs": [
    {
     "data": {
      "text/html": [
       "<div>\n",
       "<table border=\"1\" class=\"dataframe\">\n",
       "  <thead>\n",
       "    <tr style=\"text-align: right;\">\n",
       "      <th></th>\n",
       "      <th>MajorRNA</th>\n",
       "    </tr>\n",
       "  </thead>\n",
       "  <tbody>\n",
       "    <tr>\n",
       "      <th>0</th>\n",
       "      <td>UUACAUACUCCUGCUAAUAUGU</td>\n",
       "    </tr>\n",
       "    <tr>\n",
       "      <th>1</th>\n",
       "      <td>CCCUUGAAAAUCCGGAGG</td>\n",
       "    </tr>\n",
       "    <tr>\n",
       "      <th>2</th>\n",
       "      <td>UGUAAGUGCCCGAACAACAUCA</td>\n",
       "    </tr>\n",
       "    <tr>\n",
       "      <th>3</th>\n",
       "      <td>UGAAAGCUCUCUAAAAAACCUCUC</td>\n",
       "    </tr>\n",
       "    <tr>\n",
       "      <th>4</th>\n",
       "      <td>AUUUCGGGCAUAGAUUGAAGGGGU</td>\n",
       "    </tr>\n",
       "  </tbody>\n",
       "</table>\n",
       "</div>"
      ],
      "text/plain": [
       "                   MajorRNA\n",
       "0    UUACAUACUCCUGCUAAUAUGU\n",
       "1        CCCUUGAAAAUCCGGAGG\n",
       "2    UGUAAGUGCCCGAACAACAUCA\n",
       "3  UGAAAGCUCUCUAAAAAACCUCUC\n",
       "4  AUUUCGGGCAUAGAUUGAAGGGGU"
      ]
     },
     "execution_count": 13,
     "metadata": {},
     "output_type": "execute_result"
    }
   ],
   "source": [
    "# Select only the MajorRNA and merge\n",
    "shortstack_res = [f[[\"MajorRNA\"]] for f in shortstack_res]\n",
    "shortstack_res[0].head()"
   ]
  },
  {
   "cell_type": "code",
   "execution_count": null,
   "metadata": {
    "collapsed": false
   },
   "outputs": [],
   "source": [
    "# define a function to merge two ShortStack result dataframes\n",
    "def mergeByMajorRNA(df1,df2):\n",
    "    \"\"\" Will merge two dataframes\"\"\"\n",
    "    return pd.merge(df1,df2,on=\"MajorRNA\")\n",
    "\n",
    "# performe a recursive merge\n",
    "all_miRNAs = functools.reduce(mergeByMajorRNA,shortstack_res)\n"
   ]
  },
  {
   "cell_type": "code",
   "execution_count": null,
   "metadata": {
    "collapsed": true
   },
   "outputs": [],
   "source": [
    "# print\n",
    "all_miRNAs.head()"
   ]
  },
  {
   "cell_type": "code",
   "execution_count": null,
   "metadata": {
    "collapsed": true
   },
   "outputs": [],
   "source": []
  }
 ],
 "metadata": {
  "anaconda-cloud": {},
  "kernelspec": {
   "display_name": "Python [bio]",
   "language": "python",
   "name": "Python [bio]"
  },
  "language_info": {
   "codemirror_mode": {
    "name": "ipython",
    "version": 3
   },
   "file_extension": ".py",
   "mimetype": "text/x-python",
   "name": "python",
   "nbconvert_exporter": "python",
   "pygments_lexer": "ipython3",
   "version": "3.6.0"
  }
 },
 "nbformat": 4,
 "nbformat_minor": 0
}
